{
 "cells": [
  {
   "cell_type": "markdown",
   "metadata": {},
   "source": [
    "# Problem Set 2 IO\n",
    "\n",
    "# Question 2\n",
    "First, we set up the model by declaring parameters, variables and functions. Then, we run regressions and discussed results.\n",
    "\n",
    "The specification is \n",
    "$$\\log (\\text{Herfindahl}) = \\alpha + \\beta \\log (\\text{Lerner}) + \\epsilon$$\n",
    "\n",
    "And the hypothesis testing $H_0$ is $\\beta = 1$"
   ]
  },
  {
   "cell_type": "markdown",
   "metadata": {},
   "source": [
    "## Setting up the model 2 a) b)"
   ]
  },
  {
   "cell_type": "code",
   "execution_count": 507,
   "metadata": {},
   "outputs": [],
   "source": [
    "rm(list=ls())\n",
    "\n",
    "setwd(\"P:/PHD/Courses/02 - Second Year/ECON 761 (IO)/Problem Sets\")\n",
    "\n",
    "set.seed(3)"
   ]
  },
  {
   "cell_type": "code",
   "execution_count": 508,
   "metadata": {},
   "outputs": [],
   "source": [
    "##### Parameters \n",
    "\n",
    "#demand\n",
    "c0 = 1\n",
    "c1 = 0.9\n",
    "xi = 0\n",
    "#costs\n",
    "f = 1\n",
    "b0 = 1\n",
    "b1 = 0\n",
    "eta = 0\n",
    "\n",
    "# others\n",
    "number_cities = 1000\n",
    "n =  ceiling(10*runif(number_cities))\n",
    "#first 500 collude if number firsms smaller than 8\n",
    "cutoff = number_cities/2\n",
    "collusion = as.numeric(c((n[1:cutoff]<=8), rep(FALSE, cutoff)))  \n",
    "# division city types\n",
    "\n"
   ]
  },
  {
   "cell_type": "code",
   "execution_count": 509,
   "metadata": {},
   "outputs": [],
   "source": [
    "# Definitions\n",
    "\n",
    "#equil lerner index for N cournot\n",
    "lerner_cn = c1/n\n",
    "#herfindahl for symmetric firms \n",
    "herf = 1/n\n",
    "# equilibrium index for monopoly \n",
    "elasticity = rep(1/c1 , number_cities)\n",
    "# equilibrium index for monopoly\n",
    "lerner_m = c1\n",
    "# lerner index depends on conduct\n",
    "lerner = collusion*lerner_m+ (1-collusion)*lerner_cn\n",
    "# lerner log \n",
    "lerner_log = log(lerner)+0.1*(runif(number_cities)-0.5)\n",
    "# log herfindahl\n",
    "log_herf = log(herf)"
   ]
  },
  {
   "cell_type": "code",
   "execution_count": 510,
   "metadata": {},
   "outputs": [],
   "source": [
    "# Functions\n",
    "\n",
    "lerner_func = function(p, mc){\n",
    "  return (p-mc)/p\n",
    "}\n",
    "\n",
    "herf_func = function(q,q_tot){\n",
    "  share_i = q/q_tot\n",
    "  return (sum(share_i^2))\n",
    "}"
   ]
  },
  {
   "cell_type": "code",
   "execution_count": 511,
   "metadata": {},
   "outputs": [],
   "source": [
    "# Creating data set\n",
    "data = data.frame(lerner_log, log_herf, collusion)"
   ]
  },
  {
   "cell_type": "markdown",
   "metadata": {},
   "source": [
    "### Regressions"
   ]
  },
  {
   "cell_type": "code",
   "execution_count": 512,
   "metadata": {},
   "outputs": [],
   "source": [
    "coll_reg = lm(lerner_log~log_herf, data=data[1:cutoff,])\n",
    "courn_reg = lm(lerner_log~log_herf, data=data[cutoff+1:1000,])\n",
    "full_reg = lm(lerner_log~log_herf, data=data)"
   ]
  },
  {
   "cell_type": "markdown",
   "metadata": {},
   "source": [
    "## Question 2 c)"
   ]
  },
  {
   "cell_type": "markdown",
   "metadata": {},
   "source": [
    "Below are the tables corresponding to the regression of the Lerner Index on the Herfindahl Index for the case of a linear demand and fixed market function for each case **(Antitrust, No Antitrust, Whole Sample).** "
   ]
  },
  {
   "cell_type": "code",
   "execution_count": 513,
   "metadata": {},
   "outputs": [
    {
     "data": {
      "text/html": [
       "<table>\n",
       "<caption>A matrix: 2 × 4 of type dbl</caption>\n",
       "<thead>\n",
       "\t<tr><th></th><th scope=col>Estimate</th><th scope=col>Std. Error</th><th scope=col>t value</th><th scope=col>Pr(&gt;|t|)</th></tr>\n",
       "</thead>\n",
       "<tbody>\n",
       "\t<tr><th scope=row>(Intercept)</th><td>0.5538758</td><td>0.08440148</td><td> 6.562394</td><td>1.330884e-10</td></tr>\n",
       "\t<tr><th scope=row>log_herf</th><td>0.7512105</td><td>0.05057847</td><td>14.852379</td><td>1.423744e-41</td></tr>\n",
       "</tbody>\n",
       "</table>\n"
      ],
      "text/latex": [
       "A matrix: 2 × 4 of type dbl\n",
       "\\begin{tabular}{r|llll}\n",
       "  & Estimate & Std. Error & t value & Pr(>\\textbar{}t\\textbar{})\\\\\n",
       "\\hline\n",
       "\t(Intercept) & 0.5538758 & 0.08440148 &  6.562394 & 1.330884e-10\\\\\n",
       "\tlog\\_herf & 0.7512105 & 0.05057847 & 14.852379 & 1.423744e-41\\\\\n",
       "\\end{tabular}\n"
      ],
      "text/markdown": [
       "\n",
       "A matrix: 2 × 4 of type dbl\n",
       "\n",
       "| <!--/--> | Estimate | Std. Error | t value | Pr(&gt;|t|) |\n",
       "|---|---|---|---|---|\n",
       "| (Intercept) | 0.5538758 | 0.08440148 |  6.562394 | 1.330884e-10 |\n",
       "| log_herf | 0.7512105 | 0.05057847 | 14.852379 | 1.423744e-41 |\n",
       "\n"
      ],
      "text/plain": [
       "            Estimate  Std. Error t value   Pr(>|t|)    \n",
       "(Intercept) 0.5538758 0.08440148  6.562394 1.330884e-10\n",
       "log_herf    0.7512105 0.05057847 14.852379 1.423744e-41"
      ]
     },
     "metadata": {},
     "output_type": "display_data"
    }
   ],
   "source": [
    "#Hypothesis testing\n",
    "#Collusion\n",
    "sum_col =  summary(coll_reg )$coefficients\n",
    "t_col  = abs(sum_col [2,1]-1)/sum_col [2,2]\n",
    "reject_col = (t_col>=qnorm(0.95))\n",
    "sum_col"
   ]
  },
  {
   "cell_type": "markdown",
   "metadata": {},
   "source": [
    "We find that on the sample of cities **without antitrust** that collude, an increase of 100 \\% in the Herfindahl index increases the Lerner index by 68 \\%, and the results are significant. As competition decreases (more Herfindahl, thus more concentration), markups increase less than proportionally.  Out t-test for the hypothesis that the coefficient of the herfindahl $\\beta$ is equal to 1, give us the followind result statistic"
   ]
  },
  {
   "cell_type": "code",
   "execution_count": 514,
   "metadata": {},
   "outputs": [
    {
     "name": "stdout",
     "output_type": "stream",
     "text": [
      "[1] 4.918881\n"
     ]
    },
    {
     "data": {
      "text/html": [
       "TRUE"
      ],
      "text/latex": [
       "TRUE"
      ],
      "text/markdown": [
       "TRUE"
      ],
      "text/plain": [
       "[1] TRUE"
      ]
     },
     "metadata": {},
     "output_type": "display_data"
    }
   ],
   "source": [
    "print(t_col)\n",
    "reject_col"
   ]
  },
  {
   "cell_type": "markdown",
   "metadata": {},
   "source": [
    "So, we reject the null hypothesis, meaning that under collusion the relationship between the Lernex Index and the Herfindahl Index is less than proportional."
   ]
  },
  {
   "cell_type": "markdown",
   "metadata": {},
   "source": [
    "In the case **with antitrust**, we find that an increase of 100 \\% in the Herfindahl index increases the Lerner index by 99.9 \\%, and the results are significant. This results suggest that as competition decreases (more concentration), we have increase markups proportionally.   \n",
    "\n",
    "Out t-test for the hypothesis that the coefficient of the Herfindahl -$\\beta$- is equal to 1, give us the following result statistic"
   ]
  },
  {
   "cell_type": "code",
   "execution_count": 515,
   "metadata": {},
   "outputs": [
    {
     "data": {
      "text/html": [
       "<table>\n",
       "<caption>A matrix: 2 × 4 of type dbl</caption>\n",
       "<thead>\n",
       "\t<tr><th></th><th scope=col>Estimate</th><th scope=col>Std. Error</th><th scope=col>t value</th><th scope=col>Pr(&gt;|t|)</th></tr>\n",
       "</thead>\n",
       "<tbody>\n",
       "\t<tr><th scope=row>(Intercept)</th><td>-0.1023314</td><td>0.003135829</td><td>-32.63295</td><td>9.049242e-126</td></tr>\n",
       "\t<tr><th scope=row>log_herf</th><td> 1.0008733</td><td>0.001867018</td><td>536.08119</td><td> 0.000000e+00</td></tr>\n",
       "</tbody>\n",
       "</table>\n"
      ],
      "text/latex": [
       "A matrix: 2 × 4 of type dbl\n",
       "\\begin{tabular}{r|llll}\n",
       "  & Estimate & Std. Error & t value & Pr(>\\textbar{}t\\textbar{})\\\\\n",
       "\\hline\n",
       "\t(Intercept) & -0.1023314 & 0.003135829 & -32.63295 & 9.049242e-126\\\\\n",
       "\tlog\\_herf &  1.0008733 & 0.001867018 & 536.08119 &  0.000000e+00\\\\\n",
       "\\end{tabular}\n"
      ],
      "text/markdown": [
       "\n",
       "A matrix: 2 × 4 of type dbl\n",
       "\n",
       "| <!--/--> | Estimate | Std. Error | t value | Pr(&gt;|t|) |\n",
       "|---|---|---|---|---|\n",
       "| (Intercept) | -0.1023314 | 0.003135829 | -32.63295 | 9.049242e-126 |\n",
       "| log_herf |  1.0008733 | 0.001867018 | 536.08119 |  0.000000e+00 |\n",
       "\n"
      ],
      "text/plain": [
       "            Estimate   Std. Error  t value   Pr(>|t|)     \n",
       "(Intercept) -0.1023314 0.003135829 -32.63295 9.049242e-126\n",
       "log_herf     1.0008733 0.001867018 536.08119  0.000000e+00"
      ]
     },
     "metadata": {},
     "output_type": "display_data"
    }
   ],
   "source": [
    "#Cournot\n",
    "sum_cou = summary(courn_reg)$coefficients\n",
    "t_cour = abs(sum_cou[2,1]-1)/sum_cou[2,2]\n",
    "reject_cou = (t_cour>=qnorm(0.95))\n",
    "sum_cou"
   ]
  },
  {
   "cell_type": "markdown",
   "metadata": {},
   "source": [
    "Comparing Cournot with collusion, we can see that the positive effect on markups is higher in Cournot, this is because competition actually intensifies the effect on markups, wheras with collusion, this effect is limited. More concentration still yields more markups, but the impact is tampered by less competition. "
   ]
  },
  {
   "cell_type": "code",
   "execution_count": 516,
   "metadata": {
    "scrolled": false
   },
   "outputs": [
    {
     "name": "stdout",
     "output_type": "stream",
     "text": [
      "[1] 0.4677326\n"
     ]
    },
    {
     "data": {
      "text/html": [
       "FALSE"
      ],
      "text/latex": [
       "FALSE"
      ],
      "text/markdown": [
       "FALSE"
      ],
      "text/plain": [
       "[1] FALSE"
      ]
     },
     "metadata": {},
     "output_type": "display_data"
    }
   ],
   "source": [
    "print(t_cour)\n",
    "reject_cou"
   ]
  },
  {
   "cell_type": "markdown",
   "metadata": {},
   "source": [
    "So, we do **not** reject the null hypothesis ($\\beta=1$), meaning that under Cournot competition the relationship between the Lernex Index and the Herfindahl Index is proportional and in the same direction.\n",
    "\n",
    "In the **whole sample (pool)** , an increase of 100 \\% in the Herfindahl index increases the Lerner index by 84\\%, and the results are significant. Out t-test for the hypothesis that the coefficient of the herfindahl $\\beta$ is equal to 1, give us the followind result statistic"
   ]
  },
  {
   "cell_type": "code",
   "execution_count": 517,
   "metadata": {
    "scrolled": true
   },
   "outputs": [
    {
     "data": {
      "text/html": [
       "<table>\n",
       "<caption>A matrix: 2 × 4 of type dbl</caption>\n",
       "<thead>\n",
       "\t<tr><th></th><th scope=col>Estimate</th><th scope=col>Std. Error</th><th scope=col>t value</th><th scope=col>Pr(&gt;|t|)</th></tr>\n",
       "</thead>\n",
       "<tbody>\n",
       "\t<tr><th scope=row>(Intercept)</th><td>0.2339360</td><td>0.05824884</td><td> 4.016148</td><td> 6.359424e-05</td></tr>\n",
       "\t<tr><th scope=row>log_herf</th><td>0.8816055</td><td>0.03479274</td><td>25.338781</td><td>9.061150e-110</td></tr>\n",
       "</tbody>\n",
       "</table>\n"
      ],
      "text/latex": [
       "A matrix: 2 × 4 of type dbl\n",
       "\\begin{tabular}{r|llll}\n",
       "  & Estimate & Std. Error & t value & Pr(>\\textbar{}t\\textbar{})\\\\\n",
       "\\hline\n",
       "\t(Intercept) & 0.2339360 & 0.05824884 &  4.016148 &  6.359424e-05\\\\\n",
       "\tlog\\_herf & 0.8816055 & 0.03479274 & 25.338781 & 9.061150e-110\\\\\n",
       "\\end{tabular}\n"
      ],
      "text/markdown": [
       "\n",
       "A matrix: 2 × 4 of type dbl\n",
       "\n",
       "| <!--/--> | Estimate | Std. Error | t value | Pr(&gt;|t|) |\n",
       "|---|---|---|---|---|\n",
       "| (Intercept) | 0.2339360 | 0.05824884 |  4.016148 |  6.359424e-05 |\n",
       "| log_herf | 0.8816055 | 0.03479274 | 25.338781 | 9.061150e-110 |\n",
       "\n"
      ],
      "text/plain": [
       "            Estimate  Std. Error t value   Pr(>|t|)     \n",
       "(Intercept) 0.2339360 0.05824884  4.016148  6.359424e-05\n",
       "log_herf    0.8816055 0.03479274 25.338781 9.061150e-110"
      ]
     },
     "metadata": {},
     "output_type": "display_data"
    }
   ],
   "source": [
    "# All cities\n",
    "sum_full = summary(full_reg)$coefficients\n",
    "t_full = abs(sum_full[2,1]-1)/sum_full[2,2]\n",
    "rejectall = (t_full>=qnorm(0.95))\n",
    "sum_full"
   ]
  },
  {
   "cell_type": "code",
   "execution_count": 518,
   "metadata": {},
   "outputs": [
    {
     "name": "stdout",
     "output_type": "stream",
     "text": [
      "[1] 3.402851\n"
     ]
    },
    {
     "data": {
      "text/html": [
       "TRUE"
      ],
      "text/latex": [
       "TRUE"
      ],
      "text/markdown": [
       "TRUE"
      ],
      "text/plain": [
       "[1] TRUE"
      ]
     },
     "metadata": {},
     "output_type": "display_data"
    }
   ],
   "source": [
    "print(t_full)\n",
    "rejectall"
   ]
  },
  {
   "cell_type": "markdown",
   "metadata": {},
   "source": [
    "So, we **reject** the null hypothesis, meaning that in the whole sample (Cournot and collusion) the relationship between the Lerner Index and the Herfindahl Index is not proportional, because of the weight that the collusion cases have on the sample. However, the effect is smaller than Cournot and larger than with collusion, as the intuition indicates. \n",
    "\n",
    "\n",
    "See that the price elasticity of demand is 1.1, i.e. demand is elastic, and despite this, firms can have higher profits. This is related to an exogenous number of firms, there are no potential entrants. "
   ]
  },
  {
   "cell_type": "markdown",
   "metadata": {},
   "source": [
    "## Question 2 d)"
   ]
  },
  {
   "cell_type": "markdown",
   "metadata": {},
   "source": [
    "## Question 2 d)"
   ]
  },
  {
   "cell_type": "markdown",
   "metadata": {},
   "source": [
    "First we simulate for the 1000 cities, and finds equilibria according to the case."
   ]
  },
  {
   "cell_type": "code",
   "execution_count": 519,
   "metadata": {},
   "outputs": [],
   "source": [
    "# More constants\n",
    "a0 = 3\n",
    "a1 = 1\n",
    "v = 0\n",
    "\n",
    "lerner = NULL \n",
    "herf = NULL\n",
    "elasticity = NULL\n"
   ]
  },
  {
   "cell_type": "code",
   "execution_count": 520,
   "metadata": {},
   "outputs": [],
   "source": [
    "# Functions\n",
    "find_equilibria_ex <- function() {\n",
    "    \n",
    "    lerner <<- NULL \n",
    "    herf <<- NULL\n",
    "    elasticity <<- NULL\n",
    "    \n",
    "    for(i in 1:number_cities){\n",
    "\n",
    "        if(collusion[i]==T){\n",
    "\n",
    "            Q = (a0+v-b0-eta)/(2*a1)\n",
    "            q = Q/n[i]\n",
    "            q = rep(q, n[i])\n",
    "            p = (a0 + v + b0 + eta)/2\n",
    "\n",
    "            lerner[i] <<- lerner_func(p=p, mc= b0 +eta)\n",
    "            herf[i] <<- herf_func(q = q,  q_tot = Q)\n",
    "            elasticity <<- rbind( elasticity,(1/a1)*((a0-a1*Q+v)/Q)) #same elasticity formula than cournot\n",
    "      } else {\n",
    "\n",
    "            q = (a0+v-b0-eta)/(a1*(n[i]+1))\n",
    "            Q = n[i]*q\n",
    "            q = rep(q, n[i])\n",
    "            p = (a0+v+n[i]*(b0+eta))/(n[i]+1)\n",
    "\n",
    "            lerner[i] <<- lerner_func(p =p , mc = b0 + eta)\n",
    "            herf[i] <<- herf_func(q = q, q_tot = Q)\n",
    "            elasticity <<- rbind(elasticity,abs((-1/a1)*((a0-a1*Q+v)/Q)))\n",
    "      }\n",
    "    }\n",
    "    \n",
    "}"
   ]
  },
  {
   "cell_type": "code",
   "execution_count": 521,
   "metadata": {},
   "outputs": [],
   "source": [
    "find_equilibria_ex()"
   ]
  },
  {
   "cell_type": "code",
   "execution_count": 522,
   "metadata": {},
   "outputs": [],
   "source": [
    "# Regression vars\n",
    "lerner_log = log(lerner) + runif(number_cities,-0.05, 0.05)\n",
    "herf_log = log(herf)\n",
    "data = data.frame(lerner_log, herf_log)\n",
    "\n",
    "#Regressions\n",
    "coll_reg_d = lm(lerner_log~herf_log, data=data[1:cutoff,])\n",
    "courn_reg_d = lm(lerner_log~herf_log, data=data[cutoff+1:number_cities,])\n",
    "full_reg_d = lm(lerner_log~herf_log, data=data)"
   ]
  },
  {
   "cell_type": "markdown",
   "metadata": {},
   "source": [
    "We obtain different results, for this set of simulations. Below we show tables with results of the regression of the Lerner index on Herfindahl index for a linear demand and exogenous market structure, for each case: **Antitrust, No Antitrust, Whole Sample.**. \n",
    "\n",
    "We find that on the sample of cities **without antitrust** that collude, an increase of 100 \\% in the Herfindahl index increases the Lerner index by 55 \\%, and the results are significant. With these parameters, we get an even smaller result than before. As competition decreases (more Herfindahl, thus more concentration), markups increase less than proportionally.  Out t-test for the hypothesis that the coefficient of the Herfindahl $\\beta$ is equal to 1, give us the following result statistic\n"
   ]
  },
  {
   "cell_type": "code",
   "execution_count": 523,
   "metadata": {
    "scrolled": true
   },
   "outputs": [
    {
     "data": {
      "text/html": [
       "<table>\n",
       "<caption>A matrix: 2 × 4 of type dbl</caption>\n",
       "<thead>\n",
       "\t<tr><th></th><th scope=col>Estimate</th><th scope=col>Std. Error</th><th scope=col>t value</th><th scope=col>Pr(&gt;|t|)</th></tr>\n",
       "</thead>\n",
       "<tbody>\n",
       "\t<tr><th scope=row>(Intercept)</th><td>0.4861460</td><td>0.06210369</td><td> 7.827974</td><td>3.002188e-14</td></tr>\n",
       "\t<tr><th scope=row>herf_log</th><td>0.5527455</td><td>0.03721628</td><td>14.852249</td><td>1.425663e-41</td></tr>\n",
       "</tbody>\n",
       "</table>\n"
      ],
      "text/latex": [
       "A matrix: 2 × 4 of type dbl\n",
       "\\begin{tabular}{r|llll}\n",
       "  & Estimate & Std. Error & t value & Pr(>\\textbar{}t\\textbar{})\\\\\n",
       "\\hline\n",
       "\t(Intercept) & 0.4861460 & 0.06210369 &  7.827974 & 3.002188e-14\\\\\n",
       "\therf\\_log & 0.5527455 & 0.03721628 & 14.852249 & 1.425663e-41\\\\\n",
       "\\end{tabular}\n"
      ],
      "text/markdown": [
       "\n",
       "A matrix: 2 × 4 of type dbl\n",
       "\n",
       "| <!--/--> | Estimate | Std. Error | t value | Pr(&gt;|t|) |\n",
       "|---|---|---|---|---|\n",
       "| (Intercept) | 0.4861460 | 0.06210369 |  7.827974 | 3.002188e-14 |\n",
       "| herf_log | 0.5527455 | 0.03721628 | 14.852249 | 1.425663e-41 |\n",
       "\n"
      ],
      "text/plain": [
       "            Estimate  Std. Error t value   Pr(>|t|)    \n",
       "(Intercept) 0.4861460 0.06210369  7.827974 3.002188e-14\n",
       "herf_log    0.5527455 0.03721628 14.852249 1.425663e-41"
      ]
     },
     "metadata": {},
     "output_type": "display_data"
    }
   ],
   "source": [
    "#Collusion\n",
    "sum_col =  summary(coll_reg_d)$coefficients\n",
    "t_col=abs(sum_col [2,1]-1)/sum_col [2,2]\n",
    "reject_col=(t_col>=qnorm(0.95))\n",
    "sum_col"
   ]
  },
  {
   "cell_type": "code",
   "execution_count": 524,
   "metadata": {},
   "outputs": [
    {
     "name": "stdout",
     "output_type": "stream",
     "text": [
      "[1] 12.01771\n"
     ]
    },
    {
     "data": {
      "text/html": [
       "TRUE"
      ],
      "text/latex": [
       "TRUE"
      ],
      "text/markdown": [
       "TRUE"
      ],
      "text/plain": [
       "[1] TRUE"
      ]
     },
     "metadata": {},
     "output_type": "display_data"
    }
   ],
   "source": [
    "print(t_col)\n",
    "reject_col"
   ]
  },
  {
   "cell_type": "markdown",
   "metadata": {},
   "source": [
    "So, we **reject** the null hypothesis, meaning that under collusion the relationship between the Lerner Index and the Herfindahl Index is less than proportional.\n",
    "\n",
    "In the case **with antitrust**, we find that an increase of 100 \\% in the Herfindahl index increases the Lerner index by 75.2 \\%, and the results are significant. These results suggest that as competition decreases (more concentration), we have increase markups proportionally.   \n",
    "\n",
    "Out t-test for the hypothesis that the coefficient of the Herfindahl -$\\beta$- is equal to 1, give us the following result statistic"
   ]
  },
  {
   "cell_type": "code",
   "execution_count": 525,
   "metadata": {
    "scrolled": true
   },
   "outputs": [
    {
     "data": {
      "text/html": [
       "<table>\n",
       "<caption>A matrix: 2 × 4 of type dbl</caption>\n",
       "<thead>\n",
       "\t<tr><th></th><th scope=col>Estimate</th><th scope=col>Std. Error</th><th scope=col>t value</th><th scope=col>Pr(&gt;|t|)</th></tr>\n",
       "</thead>\n",
       "<tbody>\n",
       "\t<tr><th scope=row>(Intercept)</th><td>0.08661314</td><td>0.005542366</td><td> 15.62747</td><td>4.370602e-45</td></tr>\n",
       "\t<tr><th scope=row>herf_log</th><td>0.75636883</td><td>0.003299828</td><td>229.21463</td><td>0.000000e+00</td></tr>\n",
       "</tbody>\n",
       "</table>\n"
      ],
      "text/latex": [
       "A matrix: 2 × 4 of type dbl\n",
       "\\begin{tabular}{r|llll}\n",
       "  & Estimate & Std. Error & t value & Pr(>\\textbar{}t\\textbar{})\\\\\n",
       "\\hline\n",
       "\t(Intercept) & 0.08661314 & 0.005542366 &  15.62747 & 4.370602e-45\\\\\n",
       "\therf\\_log & 0.75636883 & 0.003299828 & 229.21463 & 0.000000e+00\\\\\n",
       "\\end{tabular}\n"
      ],
      "text/markdown": [
       "\n",
       "A matrix: 2 × 4 of type dbl\n",
       "\n",
       "| <!--/--> | Estimate | Std. Error | t value | Pr(&gt;|t|) |\n",
       "|---|---|---|---|---|\n",
       "| (Intercept) | 0.08661314 | 0.005542366 |  15.62747 | 4.370602e-45 |\n",
       "| herf_log | 0.75636883 | 0.003299828 | 229.21463 | 0.000000e+00 |\n",
       "\n"
      ],
      "text/plain": [
       "            Estimate   Std. Error  t value   Pr(>|t|)    \n",
       "(Intercept) 0.08661314 0.005542366  15.62747 4.370602e-45\n",
       "herf_log    0.75636883 0.003299828 229.21463 0.000000e+00"
      ]
     },
     "metadata": {},
     "output_type": "display_data"
    }
   ],
   "source": [
    "#Cournot\n",
    "sum_cou = summary(courn_reg_d)$coefficients\n",
    "t_cour = abs(sum_cou[2,1]-1)/sum_cou[2,2]\n",
    "reject_cou = (t_cour>=qnorm(0.95))\n",
    "sum_cou"
   ]
  },
  {
   "cell_type": "code",
   "execution_count": 526,
   "metadata": {},
   "outputs": [
    {
     "name": "stdout",
     "output_type": "stream",
     "text": [
      "[1] 73.83148\n"
     ]
    },
    {
     "data": {
      "text/html": [
       "TRUE"
      ],
      "text/latex": [
       "TRUE"
      ],
      "text/markdown": [
       "TRUE"
      ],
      "text/plain": [
       "[1] TRUE"
      ]
     },
     "metadata": {},
     "output_type": "display_data"
    }
   ],
   "source": [
    "print(t_cour)\n",
    "reject_cou"
   ]
  },
  {
   "cell_type": "markdown",
   "metadata": {},
   "source": [
    "So, we **reject** the null hypothesis, meaning that in this case, under Cournot competition the relationship between the Lerner Index and the Herfindahl Index is not proportional. This is different from c), and indicates that depending on the demand curve, we might or not be able to easily detect collusion\n",
    "\n",
    "Using the  **whole pool**, we find that an increase of 100 \\% in the Herfindahl index increases the Lerner index by 65\\%, and the results are significant. This effect is smaller than in d) and it is between the collusion sample and the Cournot sample results, which is what we would expect.  Out t-test for the hypothesis that the coefficient of the Herfindahl $\\beta$ is equal to 1, give us the following result statistic"
   ]
  },
  {
   "cell_type": "code",
   "execution_count": 527,
   "metadata": {
    "scrolled": true
   },
   "outputs": [
    {
     "data": {
      "text/html": [
       "<table>\n",
       "<caption>A matrix: 2 × 4 of type dbl</caption>\n",
       "<thead>\n",
       "\t<tr><th></th><th scope=col>Estimate</th><th scope=col>Std. Error</th><th scope=col>t value</th><th scope=col>Pr(&gt;|t|)</th></tr>\n",
       "</thead>\n",
       "<tbody>\n",
       "\t<tr><th scope=row>(Intercept)</th><td>0.2924632</td><td>0.04163133</td><td> 7.025073</td><td> 3.955986e-12</td></tr>\n",
       "\t<tr><th scope=row>herf_log</th><td>0.6587182</td><td>0.02486690</td><td>26.489765</td><td>1.596474e-117</td></tr>\n",
       "</tbody>\n",
       "</table>\n"
      ],
      "text/latex": [
       "A matrix: 2 × 4 of type dbl\n",
       "\\begin{tabular}{r|llll}\n",
       "  & Estimate & Std. Error & t value & Pr(>\\textbar{}t\\textbar{})\\\\\n",
       "\\hline\n",
       "\t(Intercept) & 0.2924632 & 0.04163133 &  7.025073 &  3.955986e-12\\\\\n",
       "\therf\\_log & 0.6587182 & 0.02486690 & 26.489765 & 1.596474e-117\\\\\n",
       "\\end{tabular}\n"
      ],
      "text/markdown": [
       "\n",
       "A matrix: 2 × 4 of type dbl\n",
       "\n",
       "| <!--/--> | Estimate | Std. Error | t value | Pr(&gt;|t|) |\n",
       "|---|---|---|---|---|\n",
       "| (Intercept) | 0.2924632 | 0.04163133 |  7.025073 |  3.955986e-12 |\n",
       "| herf_log | 0.6587182 | 0.02486690 | 26.489765 | 1.596474e-117 |\n",
       "\n"
      ],
      "text/plain": [
       "            Estimate  Std. Error t value   Pr(>|t|)     \n",
       "(Intercept) 0.2924632 0.04163133  7.025073  3.955986e-12\n",
       "herf_log    0.6587182 0.02486690 26.489765 1.596474e-117"
      ]
     },
     "metadata": {},
     "output_type": "display_data"
    }
   ],
   "source": [
    "# All cities\n",
    "sum_full = summary(full_reg_d)$coefficients\n",
    "t_full = abs(sum_full[2,1]-1)/sum_full[2,2]\n",
    "rejectall = (t_full>=qnorm(0.95))\n",
    "sum_full"
   ]
  },
  {
   "cell_type": "code",
   "execution_count": 484,
   "metadata": {
    "scrolled": true
   },
   "outputs": [
    {
     "name": "stdout",
     "output_type": "stream",
     "text": [
      "[1] 14.1418\n"
     ]
    },
    {
     "data": {
      "text/html": [
       "TRUE"
      ],
      "text/latex": [
       "TRUE"
      ],
      "text/markdown": [
       "TRUE"
      ],
      "text/plain": [
       "[1] TRUE"
      ]
     },
     "metadata": {},
     "output_type": "display_data"
    }
   ],
   "source": [
    "print(t_full)\n",
    "rejectall"
   ]
  },
  {
   "cell_type": "markdown",
   "metadata": {},
   "source": [
    "Likewise, we reject the null hypothesis. "
   ]
  },
  {
   "cell_type": "markdown",
   "metadata": {},
   "source": [
    "## Question 2 e)\n",
    "\n",
    "We learned that if we suspect collusion in a set of markets, we can regress the Lerner index on the Herfindahl index, and test for the null hypothesis $\\beta=1$. If we reject the hypothesis, we might have collusion in those markets.\n",
    "\n",
    "We also learn that the functional form of the demand matters on the impact of collusion in markets. Firms have different abilities to exert market power and thus have higher markups when colluding. Depending on how the elasticity varies along the demand curve, collusion and Competition have a different effect on markups. With constant elasticity, firms face similar constraints along the demand curve, while with varying elasticity, the more elastic parts yield smaller markups."
   ]
  },
  {
   "cell_type": "markdown",
   "metadata": {},
   "source": [
    "# Question 3\n",
    "\n",
    "We need to modify the simulation to calculate exogenously the market structure and to only play Cournot."
   ]
  },
  {
   "cell_type": "code",
   "execution_count": 485,
   "metadata": {},
   "outputs": [],
   "source": [
    "# Setting params\n",
    "a0 = 5"
   ]
  },
  {
   "cell_type": "code",
   "execution_count": 486,
   "metadata": {},
   "outputs": [],
   "source": [
    "# Exogenous number of cities\n",
    "n_endog <- function(){\n",
    "    n <<-NULL\n",
    "    for(i in 1:number_cities){\n",
    "        n <<- rbind(n,((a0+v[i]-b0-eta[i])/sqrt(a1*f))-1)\n",
    "    }\n",
    "}\n",
    "\n",
    "\n",
    "# Simulation\n",
    "find_equilibria_end <- function() {\n",
    "\n",
    "    lerner <<- NULL \n",
    "    herf <<- NULL\n",
    "    elasticity <<- NULL\n",
    "\n",
    "    for(i in 1:number_cities){\n",
    "        q = (a0+v-b0-eta[i])/(a1*(n[i]+1))\n",
    "        Q = n[i]*q\n",
    "        q = rep(q, n[i])\n",
    "        p = (a0+v[i]+n[i]*(b0+eta[i]))/(n[i]+1)\n",
    "        \n",
    "# using endogenous formulas\n",
    "        lerner[i] <<- (sqrt(a1*f)/(sqrt(a1*f)+b0+eta[i]))\n",
    "        herf[i] <<- (sqrt(a1*f)/(a0+v[i]-b0-eta[i]- sqrt(a1*f)) )\n",
    "        elasticity[i] <<- ((sqrt(a1*f)+b0+eta[i])/(a0+v[i]-b0-eta[i]-sqrt(a1*f)))\n",
    "    }\n",
    "\n",
    "}\n"
   ]
  },
  {
   "cell_type": "markdown",
   "metadata": {},
   "source": [
    "## Question 3 a)\n",
    "\n",
    "Case where $v$ is distributed $U[-1,1]$ and $\\eta=0$: **variation in the willingness to pay**."
   ]
  },
  {
   "cell_type": "code",
   "execution_count": 487,
   "metadata": {},
   "outputs": [],
   "source": [
    "\n",
    "# case eta = 0, v in [-1,1]\n",
    "eta =  rep (0,number_cities)\n",
    "v = runif(number_cities,-1,1)\n",
    "\n",
    "# number of cities\n",
    "n_endog()\n",
    "\n",
    "find_equilibria_end()\n",
    "\n",
    "lerner_log = log(lerner) + runif(number_cities,-0.05, 0.05)\n",
    "herf_log = log(herf)\n",
    "data = data.frame(lerner_log, herf_log)\n",
    "elast_3a <- elasticity\n",
    "\n",
    "#Regressions\n",
    "full_reg_3a = lm(lerner_log~herf_log, data=data)"
   ]
  },
  {
   "cell_type": "code",
   "execution_count": 488,
   "metadata": {
    "scrolled": true
   },
   "outputs": [
    {
     "data": {
      "text/html": [
       "<table>\n",
       "<caption>A matrix: 2 × 4 of type dbl</caption>\n",
       "<thead>\n",
       "\t<tr><th></th><th scope=col>Estimate</th><th scope=col>Std. Error</th><th scope=col>t value</th><th scope=col>Pr(&gt;|t|)</th></tr>\n",
       "</thead>\n",
       "<tbody>\n",
       "\t<tr><th scope=row>(Intercept)</th><td>-0.697566454</td><td>0.005029198</td><td>-138.703312</td><td>0.0000000</td></tr>\n",
       "\t<tr><th scope=row>herf_log</th><td>-0.003039956</td><td>0.004598978</td><td>  -0.661007</td><td>0.5087604</td></tr>\n",
       "</tbody>\n",
       "</table>\n"
      ],
      "text/latex": [
       "A matrix: 2 × 4 of type dbl\n",
       "\\begin{tabular}{r|llll}\n",
       "  & Estimate & Std. Error & t value & Pr(>\\textbar{}t\\textbar{})\\\\\n",
       "\\hline\n",
       "\t(Intercept) & -0.697566454 & 0.005029198 & -138.703312 & 0.0000000\\\\\n",
       "\therf\\_log & -0.003039956 & 0.004598978 &   -0.661007 & 0.5087604\\\\\n",
       "\\end{tabular}\n"
      ],
      "text/markdown": [
       "\n",
       "A matrix: 2 × 4 of type dbl\n",
       "\n",
       "| <!--/--> | Estimate | Std. Error | t value | Pr(&gt;|t|) |\n",
       "|---|---|---|---|---|\n",
       "| (Intercept) | -0.697566454 | 0.005029198 | -138.703312 | 0.0000000 |\n",
       "| herf_log | -0.003039956 | 0.004598978 |   -0.661007 | 0.5087604 |\n",
       "\n"
      ],
      "text/plain": [
       "            Estimate     Std. Error  t value     Pr(>|t|) \n",
       "(Intercept) -0.697566454 0.005029198 -138.703312 0.0000000\n",
       "herf_log    -0.003039956 0.004598978   -0.661007 0.5087604"
      ]
     },
     "metadata": {},
     "output_type": "display_data"
    }
   ],
   "source": [
    "# All cities regression\n",
    "summary(full_reg_3a)$coefficients"
   ]
  },
  {
   "cell_type": "markdown",
   "metadata": {},
   "source": [
    "The previous table shows the regression of the Lerner Index on the Herfindahl index for the case of **endogenous number of firms**, $v\\sim U[-1,1]$ and $\\eta=0$. "
   ]
  },
  {
   "cell_type": "markdown",
   "metadata": {},
   "source": [
    "## Question 3 b)\n",
    "\n",
    "Case where $\\eta$ is distributed $U[-1,1]$ and $v=0$: **variation in firms marginal cost**."
   ]
  },
  {
   "cell_type": "code",
   "execution_count": 443,
   "metadata": {},
   "outputs": [],
   "source": [
    "# case v = 0, eta in [-1,1]\n",
    "v =  rep (0,number_cities)\n",
    "eta = runif(number_cities,-1,1)\n",
    "\n",
    "# number of cities\n",
    "n_endog()\n",
    "\n",
    "find_equilibria_end()\n",
    "\n",
    "lerner_log = log(lerner) + runif(number_cities,-0.05, 0.05)\n",
    "herf_log = log(herf)\n",
    "data = data.frame(lerner_log, herf_log)\n",
    "elast_3b <- elasticity\n",
    "\n",
    "#Regressions\n",
    "full_reg_3b = lm(lerner_log~herf_log, data=data)\n"
   ]
  },
  {
   "cell_type": "code",
   "execution_count": 444,
   "metadata": {},
   "outputs": [
    {
     "data": {
      "text/html": [
       "<table>\n",
       "<caption>A matrix: 2 × 4 of type dbl</caption>\n",
       "<thead>\n",
       "\t<tr><th></th><th scope=col>Estimate</th><th scope=col>Std. Error</th><th scope=col>t value</th><th scope=col>Pr(&gt;|t|)</th></tr>\n",
       "</thead>\n",
       "<tbody>\n",
       "\t<tr><th scope=row>(Intercept)</th><td>-2.309528</td><td>0.01340157</td><td>-172.3327</td><td>0</td></tr>\n",
       "\t<tr><th scope=row>herf_log</th><td>-1.538601</td><td>0.01213797</td><td>-126.7593</td><td>0</td></tr>\n",
       "</tbody>\n",
       "</table>\n"
      ],
      "text/latex": [
       "A matrix: 2 × 4 of type dbl\n",
       "\\begin{tabular}{r|llll}\n",
       "  & Estimate & Std. Error & t value & Pr(>\\textbar{}t\\textbar{})\\\\\n",
       "\\hline\n",
       "\t(Intercept) & -2.309528 & 0.01340157 & -172.3327 & 0\\\\\n",
       "\therf\\_log & -1.538601 & 0.01213797 & -126.7593 & 0\\\\\n",
       "\\end{tabular}\n"
      ],
      "text/markdown": [
       "\n",
       "A matrix: 2 × 4 of type dbl\n",
       "\n",
       "| <!--/--> | Estimate | Std. Error | t value | Pr(&gt;|t|) |\n",
       "|---|---|---|---|---|\n",
       "| (Intercept) | -2.309528 | 0.01340157 | -172.3327 | 0 |\n",
       "| herf_log | -1.538601 | 0.01213797 | -126.7593 | 0 |\n",
       "\n"
      ],
      "text/plain": [
       "            Estimate  Std. Error t value   Pr(>|t|)\n",
       "(Intercept) -2.309528 0.01340157 -172.3327 0       \n",
       "herf_log    -1.538601 0.01213797 -126.7593 0       "
      ]
     },
     "metadata": {},
     "output_type": "display_data"
    }
   ],
   "source": [
    "# All cities regression\n",
    "#library(stargazer)\n",
    "summary(full_reg_3b)$coefficients"
   ]
  },
  {
   "cell_type": "markdown",
   "metadata": {},
   "source": [
    "The previous table shows the regression of the Lerner Index on the Herfindahl index for the case of **endogenous number of firms**, $\\eta \\sim U[-1,1]$ and $v=0$. "
   ]
  },
  {
   "cell_type": "markdown",
   "metadata": {},
   "source": [
    "## 3 c)\n",
    "When there is variation in consumers' willingness to pay, we estimate that the effect on markups is very small and positive, $\\beta = 0.004$ However this coefficient is not significant, the absolute value of the $t$ value is smaller than 2, which indicates a high p-value This is a very small effect, which can be explained by the difficulty of identifying a pattern do to variations. If we compare this result with what we found in question 2, which was a positive and large effect on markups for every case. \n",
    "\n",
    "Uncertainty in marginal cost across cities results also in a small but negative coefficient, $\\beta=-1.5$, but this time we get a large and significant coefficient. The interpretation of this coefficient is that more concentration in the industry brings markups down. The optimal endogenous number of firms is 2 and 4, and the elasticities in the case where $\\eta=0$ are less sparse (ranging from 0.4 to 1) than when $v=0$ (ranging from 0.2 to 1.5). Moreover, as expected, markets with fewer firms that are more concentrated have higher elasticities. In particular, the only markets where firms face elastic demands are those markets where firms have higher marginal costs, and thus there are fewer firms. So, the existence of a high number of markets where demand is elastic ($\\epsilon >1$), helps explain why the ability to set higher markups is limited when $v=0$. The demand is more responsive, so when there is variation in the marginal costs, this shifts the equilibrium to a more elastic part of the demand, decreasing quantities whenever there is less competition. The fact that this happens in some markets in b) and in zero markets in a) helps to explain the difference in effects. "
   ]
  },
  {
   "cell_type": "markdown",
   "metadata": {},
   "source": [
    "# Note\n",
    "\n",
    "*Table results might be slightly different to coefficients in text, because every simulation is generated from a distribution, so every regression gives slightly different results.* "
   ]
  },
  {
   "cell_type": "markdown",
   "metadata": {},
   "source": [
    "# Appendix"
   ]
  },
  {
   "cell_type": "code",
   "execution_count": 450,
   "metadata": {},
   "outputs": [
    {
     "data": {
      "image/png": "[encoded data removed]",
      "text/plain": [
       "Plot with title \"Distribution of the number of firms 3 b)\""
      ]
     },
     "metadata": {},
     "output_type": "display_data"
    }
   ],
   "source": [
    "hist(n, main= \"Distribution of the number of firms 3 b)\",xlab = \"elasticities\",col=rainbow(14))"
   ]
  },
  {
   "cell_type": "code",
   "execution_count": 451,
   "metadata": {},
   "outputs": [
    {
     "data": {
      "image/png": "[encoded data removed]",
      "text/plain": [
       "Plot with title \"Distribution of the elasticities 3 a)\""
      ]
     },
     "metadata": {},
     "output_type": "display_data"
    }
   ],
   "source": [
    "hist(elast_3a, main= \"Distribution of the elasticities 3 a)\" ,xlab = \"elasticities\",col=rainbow(14))"
   ]
  },
  {
   "cell_type": "code",
   "execution_count": 452,
   "metadata": {},
   "outputs": [
    {
     "data": {
      "image/png": "[encoded data removed]",
      "text/plain": [
       "Plot with title \"Distribution of the elasticities 3 b)\""
      ]
     },
     "metadata": {},
     "output_type": "display_data"
    }
   ],
   "source": [
    "hist(elast_3b, main= \"Distribution of the elasticities 3 b)\",xlab = \"elasticities\", col=rainbow(14))"
   ]
  }
 ],
 "metadata": {
  "hide_input": false,
  "kernelspec": {
   "display_name": "R",
   "language": "R",
   "name": "ir"
  },
  "language_info": {
   "codemirror_mode": "r",
   "file_extension": ".r",
   "mimetype": "text/x-r-source",
   "name": "R",
   "pygments_lexer": "r",
   "version": "3.6.0"
  },
  "toc": {
   "base_numbering": 1,
   "nav_menu": {},
   "number_sections": true,
   "sideBar": true,
   "skip_h1_title": false,
   "title_cell": "Table of Contents",
   "title_sidebar": "Contents",
   "toc_cell": false,
   "toc_position": {},
   "toc_section_display": true,
   "toc_window_display": false
  },
  "varInspector": {
   "cols": {
    "lenName": 16,
    "lenType": 16,
    "lenVar": 40
   },
   "kernels_config": {
    "python": {
     "delete_cmd_postfix": "",
     "delete_cmd_prefix": "del ",
     "library": "var_list.py",
     "varRefreshCmd": "print(var_dic_list())"
    },
    "r": {
     "delete_cmd_postfix": ") ",
     "delete_cmd_prefix": "rm(",
     "library": "var_list.r",
     "varRefreshCmd": "cat(var_dic_list()) "
    }
   },
   "position": {
    "height": "433.722px",
    "left": "1294.46px",
    "right": "20px",
    "top": "142.977px",
    "width": "350px"
   },
   "types_to_exclude": [
    "module",
    "function",
    "builtin_function_or_method",
    "instance",
    "_Feature"
   ],
   "window_display": false
  }
 },
 "nbformat": 4,
 "nbformat_minor": 4
}
